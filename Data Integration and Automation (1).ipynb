{
 "cells": [
  {
   "cell_type": "code",
   "execution_count": 14,
   "id": "b74e3a4e-66e5-492c-a14c-de1c929d156b",
   "metadata": {},
   "outputs": [],
   "source": [
    "import os  \n",
    "import pandas as pd  \n",
    "import numpy as np  \n",
    "from datetime import datetime, timedelta  \n",
    "from fredapi import Fred \n",
    "import logging  \n",
    "import smtplib  "
   ]
  },
  {
   "cell_type": "code",
   "execution_count": 15,
   "id": "a134611e-b7af-417d-9cb8-38097c306be9",
   "metadata": {},
   "outputs": [],
   "source": [
    "API_KEY = os.getenv(\"<Fred API>\")  \n",
    "START_YEAR = 2024  \n",
    "NUM_PRODUCTS = 50  \n",
    "OUTPUT_PATH = \"merged_data.csv\" \n",
    "EMAIL_RECIPIENTS = [\"amitdubeypa@gmail.com\"] "
   ]
  },
  {
   "cell_type": "code",
   "execution_count": null,
   "id": "eac39c59-ed5c-489d-ac17-b610f65d29a5",
   "metadata": {},
   "outputs": [],
   "source": [
    "pip install fredapi"
   ]
  },
  {
   "cell_type": "code",
   "execution_count": 16,
   "id": "db0b40b6-bd9a-424e-bc09-b179b3dba0f3",
   "metadata": {},
   "outputs": [],
   "source": [
    "def generate_week_starts(year):\n",
    "    idx = pd.date_range(\n",
    "        start=f\"{year}-01-01\",\n",
    "        end=f\"{year}-12-31\",\n",
    "        freq=\"W-SUN\"     # Weekly on Sunday\n",
    "    )\n",
    "    return list(idx.to_pydatetime())"
   ]
  },
  {
   "cell_type": "code",
   "execution_count": 17,
   "id": "a2ebff40-7052-4ef9-bf3e-f49da3242fb7",
   "metadata": {},
   "outputs": [],
   "source": [
    "def create_product_catalog(n):\n",
    "    return pd.DataFrame({\n",
    "        'Product ID': range(1, n+1),\n",
    "        'Product Name': [f\"Product_{i}\" for i in range(1, n+1)]\n",
    "    })\n"
   ]
  },
  {
   "cell_type": "code",
   "execution_count": 18,
   "id": "6f4ab92f-8d5d-4510-b344-4f7faf8a74b7",
   "metadata": {},
   "outputs": [],
   "source": [
    "def generate_sales_data(week_starts, catalog):\n",
    "    records = []\n",
    "    for week_idx, week_start in enumerate(week_starts):\n",
    "        # Seasonality: base units fluctuate sinusoidally over the year\n",
    "        seasonal_factor = 1 + 0.3 * np.sin(2 * np.pi * week_idx / len(week_starts))\n",
    "        for _, prod in catalog.iterrows():\n",
    "            base_units = 100 + 20 * np.random.randn()  \n",
    "            units_sold = max(0, base_units * seasonal_factor)\n",
    "            price = round(10 + 2 * np.random.rand(), 2)  \n",
    "            discount = np.random.choice([0, 0.1, 0.2], p=[0.7, 0.2, 0.1])\n",
    "            revenue = units_sold * price * (1 - discount)\n",
    "            records.append({\n",
    "                'Week Start Date': week_start,\n",
    "                'Product ID': prod['Product ID'],\n",
    "                'Product Name': prod['Product Name'],\n",
    "                'Units Sold': round(units_sold),\n",
    "                'Price ($)': price,\n",
    "                'Discount Percentage': discount * 100,\n",
    "                'Revenue ($)': round(revenue, 2),\n",
    "                'Region': 'USA'\n",
    "            })\n",
    "    return pd.DataFrame(records)"
   ]
  },
  {
   "cell_type": "code",
   "execution_count": 19,
   "id": "b8f502f3-a69b-416d-9605-480ce0f5b143",
   "metadata": {},
   "outputs": [],
   "source": [
    "def fetch_economic_data(start_date, end_date, api_key):\n",
    "    fred = Fred(api_key=api_key)\n",
    "    gas = fred.get_series('GASREGW', observation_start=start_date, observation_end=end_date)\n",
    "    cpi = fred.get_series('CPIAUCSL', observation_start=start_date, observation_end=end_date)\n",
    "    \n",
    "    df_gas = gas.resample('W-SUN').mean().rename('Gas Price')\n",
    "    df_cpi = cpi.resample('W-SUN').ffill().rename('CPI')\n",
    "    \n",
    "    econ = pd.concat([df_gas, df_cpi], axis=1).reset_index()\n",
    "    econ.rename(columns={'index': 'Week Start Date'}, inplace=True)\n",
    "    return econ"
   ]
  },
  {
   "cell_type": "code",
   "execution_count": 20,
   "id": "f36b8c2a-820d-4e91-8083-65e991cc850f",
   "metadata": {},
   "outputs": [],
   "source": [
    "def run_integrity_checks(df):\n",
    "    errors = []\n",
    "    # 1) Missing in any critical column?\n",
    "    if df[['Units Sold','Price ($)','Discount Percentage','Revenue ($)']].isna().any(axis=None):\n",
    "        errors.append(\"Missing values in sales fields.\")  \n",
    "    # 2) Outliers: Z‑score >3 or <–3\n",
    "    zs = (df['Units Sold'] - df['Units Sold'].mean()) / df['Units Sold'].std()\n",
    "    if (zs.abs() > 3).any():\n",
    "        errors.append(\"Spikes/dips in Units Sold.\")   \n",
    "\n",
    "    # 3) Any NAs in economic columns?\n",
    "    if df[['Gas Price','CPI']].isna().any(axis=None):\n",
    "        errors.append(\"Missing economic data post-merge.\") \n",
    "\n",
    "    return errors"
   ]
  },
  {
   "cell_type": "code",
   "execution_count": 24,
   "id": "6b2fe6e4-7d94-4901-bf64-ebe66c542d0d",
   "metadata": {},
   "outputs": [],
   "source": [
    "def send_alert(subject, message):\n",
    "    logging.basicConfig(filename='data_pipeline1.log', level=logging.ERROR)\n",
    "    logging.error(f\"{subject}: {message}\")\n",
    "   \n",
    "    # try:\n",
    "    #     with smtplib.SMTP('localhost') as server:\n",
    "    #         email_text = f\"Subject: {subject}\\n\\n{message}\"\n",
    "    #         for recipient in EMAIL_RECIPIENTS:\n",
    "    #             server.sendmail('amitdubeypa@gmail.com', recipient, email_text)\n",
    "    # except Exception as e:\n",
    "    #     logging.error(f\"Failed to send email alert: {e}\")\n",
    "    logging.shutdown()"
   ]
  },
  {
   "cell_type": "code",
   "execution_count": 22,
   "id": "096062fe-73f4-417f-86d3-fc05a7a369d3",
   "metadata": {},
   "outputs": [],
   "source": [
    "def refresh_and_merge():\n",
    "    # Generate or load sales data\n",
    "    week_starts = generate_week_starts(START_YEAR)\n",
    "    catalog = create_product_catalog(NUM_PRODUCTS)\n",
    "    sales_df = generate_sales_data(week_starts, catalog)\n",
    "\n",
    "    # Fetch economic indicators\n",
    "    econ_df = fetch_economic_data(\n",
    "        start_date=min(week_starts),\n",
    "        end_date=max(week_starts),\n",
    "        api_key=\"<Fred API>\"\n",
    "    )\n",
    "\n",
    "    # Merge datasets on Week Start Date\n",
    "    merged = pd.merge(sales_df, econ_df, on='Week Start Date', how='left')\n",
    "\n",
    "    # Run integrity checks\n",
    "    errors = run_integrity_checks(merged)\n",
    "    if errors:\n",
    "        send_alert(\"Data Integrity Issues\", \"; \".join(errors))\n",
    "\n",
    "    # Save final dataset\n",
    "    merged.to_csv(OUTPUT_PATH, index=False)\n",
    "    print(f\"Merged data saved to {OUTPUT_PATH}\")"
   ]
  },
  {
   "cell_type": "code",
   "execution_count": null,
   "id": "289b2618-9df4-4592-bb5d-2ba4229be6b2",
   "metadata": {},
   "outputs": [],
   "source": []
  },
  {
   "cell_type": "code",
   "execution_count": 23,
   "id": "e6c1ef8f-eead-49f0-b707-438618379692",
   "metadata": {},
   "outputs": [
    {
     "name": "stdout",
     "output_type": "stream",
     "text": [
      "Merged data saved to merged_data.csv\n"
     ]
    }
   ],
   "source": [
    "refresh_and_merge()"
   ]
  },
  {
   "cell_type": "code",
   "execution_count": null,
   "id": "99fccbfb-9681-4f93-80f3-6c959e3b1c7e",
   "metadata": {},
   "outputs": [],
   "source": []
  },
  {
   "cell_type": "code",
   "execution_count": null,
   "id": "6bd1cf6d-6173-468b-8b93-6cacf45aeb3d",
   "metadata": {},
   "outputs": [],
   "source": []
  }
 ],
 "metadata": {
  "kernelspec": {
   "display_name": "Python 3 (ipykernel)",
   "language": "python",
   "name": "python3"
  },
  "language_info": {
   "codemirror_mode": {
    "name": "ipython",
    "version": 3
   },
   "file_extension": ".py",
   "mimetype": "text/x-python",
   "name": "python",
   "nbconvert_exporter": "python",
   "pygments_lexer": "ipython3",
   "version": "3.11.7"
  }
 },
 "nbformat": 4,
 "nbformat_minor": 5
}
